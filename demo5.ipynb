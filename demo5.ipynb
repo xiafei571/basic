{
 "cells": [
  {
   "cell_type": "code",
   "execution_count": 2,
   "metadata": {},
   "outputs": [
    {
     "name": "stdout",
     "output_type": "stream",
     "text": [
      "True\n",
      "False\n"
     ]
    }
   ],
   "source": [
    "from math import sqrt\n",
    "# import math\n",
    "\n",
    "def point_in_range(x, y): # x,y 0-1.0\n",
    "    if sqrt(x**2 + y**2) <= 1.0:\n",
    "        return True\n",
    "    else:\n",
    "        return False\n",
    "    \n",
    "print(point_in_range(0.5, 0.5))\n",
    "print(point_in_range(1.0, 0.8))\n",
    "        \n",
    "    \n"
   ]
  },
  {
   "cell_type": "code",
   "execution_count": 9,
   "metadata": {},
   "outputs": [
    {
     "name": "stdout",
     "output_type": "stream",
     "text": [
      "0.47025806721163077\n",
      "0.7080887158469447\n",
      "0.343268763779525\n"
     ]
    }
   ],
   "source": [
    "from random import *\n",
    "\n",
    "\n",
    "seed() # 0.5714025946899135 , 0.4288890546751146 \n",
    "\n",
    "print(random())\n",
    "print(random())\n",
    "\n",
    "seed()\n",
    "\n",
    "print(random())\n",
    "\n"
   ]
  },
  {
   "cell_type": "code",
   "execution_count": 12,
   "metadata": {},
   "outputs": [
    {
     "name": "stdout",
     "output_type": "stream",
     "text": [
      "13.070304\n",
      "3.1413038969039917\n"
     ]
    }
   ],
   "source": [
    "import time\n",
    "\n",
    "def cal_pi(times):\n",
    "    start = time.process_time()\n",
    "    hits = 0\n",
    "    for _ in range(times):\n",
    "        x,y = random(),random()\n",
    "        if point_in_range(x, y): #在半圆里\n",
    "            hits += 1\n",
    "            \n",
    "    pi = 4 * (hits/times)\n",
    "    end = time.process_time()\n",
    "    print(end - start)\n",
    "    return pi\n",
    "\n",
    "print(cal_pi(2**25))\n",
    "            \n",
    "\n"
   ]
  },
  {
   "cell_type": "code",
   "execution_count": 13,
   "metadata": {},
   "outputs": [
    {
     "name": "stdout",
     "output_type": "stream",
     "text": [
      "1\n",
      "3\n",
      "5\n",
      "6\n",
      "12\n",
      "15\n"
     ]
    }
   ],
   "source": [
    "# 二叉树\n",
    "class Node:\n",
    "    def __init__(self, root):\n",
    "        self.data = root\n",
    "        self.left = None\n",
    "        self.right = None\n",
    "        \n",
    "    def print_tree(self): # 中序遍历 ： 左中右\n",
    "        if self.left: # is not None\n",
    "            self.left.print_tree()\n",
    "            \n",
    "        print(self.data)\n",
    "        \n",
    "        if self.right:\n",
    "            self.right.print_tree()\n",
    "            \n",
    "        \n",
    "    def insert(self, data):\n",
    "        if data < self.data:\n",
    "            if self.left is None:\n",
    "                self.left = Node(data)\n",
    "            else:\n",
    "                self.left.insert(data)\n",
    "        elif data > self.data:\n",
    "            if self.right is None:\n",
    "                self.right = Node(data)\n",
    "            else:\n",
    "                self.right.insert(data)\n",
    "        else:\n",
    "            self.data = data\n",
    "    \n",
    "    \n",
    "santal_tree = Node(12)\n",
    "santal_tree.insert(3)\n",
    "santal_tree.insert(1)\n",
    "santal_tree.insert(15)\n",
    "santal_tree.insert(5)\n",
    "santal_tree.insert(6)\n",
    "\n",
    "santal_tree.print_tree()\n"
   ]
  },
  {
   "cell_type": "code",
   "execution_count": 5,
   "metadata": {},
   "outputs": [
    {
     "name": "stdout",
     "output_type": "stream",
     "text": [
      "please input a:1\n",
      "please input b:0\n",
      "can not division by zero\n"
     ]
    }
   ],
   "source": [
    "a = input(\"please input a:\")\n",
    "b = input(\"please input b:\")\n",
    "\n",
    "try:\n",
    "    print(int(a)/int(b))\n",
    "except:\n",
    "    print(\"can not division by zero\")\n",
    "\n"
   ]
  },
  {
   "cell_type": "code",
   "execution_count": 9,
   "metadata": {},
   "outputs": [
    {
     "name": "stdout",
     "output_type": "stream",
     "text": [
      "Summary of Kaneko sensei's lecture:\n",
      "Researching of  Game AI: \n",
      "Arcade Learning Environments (Atari): Deep Q Network\n",
      "The AlphaGo is basic on Reinforcement learning, Deep learning, and MCTS.\n",
      "The AlphaX, the AI that simulates the StarCraft II game of battle, is also based on reinforcement learning.\n"
     ]
    }
   ],
   "source": [
    "in_file = open(\"/Users/xiafei/Downloads/Summary of Kaneko sensei's lecture\", \"r\")\n",
    "\n",
    "for i in range(5):\n",
    "    line = in_file.readline()\n",
    "    print(line[:-1])"
   ]
  },
  {
   "cell_type": "code",
   "execution_count": 13,
   "metadata": {},
   "outputs": [
    {
     "name": "stdout",
     "output_type": "stream",
     "text": [
      "[300.0, 0.0, 144.0, 1.0, 0.0, 0.0]\n"
     ]
    }
   ],
   "source": [
    "str = \"300,0, 144,1,0,0\"\n",
    "a = list(map(float, str.split(',')))\n",
    "\n",
    "print(a)"
   ]
  },
  {
   "cell_type": "code",
   "execution_count": 17,
   "metadata": {},
   "outputs": [
    {
     "name": "stdout",
     "output_type": "stream",
     "text": [
      "2.0\n",
      "can not division by zero\n",
      "0\n"
     ]
    }
   ],
   "source": [
    "# 异常处理\n",
    "def div_test(a, b):\n",
    "    try:\n",
    "        return a/b\n",
    "    except:\n",
    "        print(\"can not division by zero\")\n",
    "        return 0\n",
    "\n",
    "\n",
    "print(div_test(10, 5))\n",
    "print(div_test(10, 0))\n"
   ]
  },
  {
   "cell_type": "code",
   "execution_count": 24,
   "metadata": {},
   "outputs": [
    {
     "name": "stdout",
     "output_type": "stream",
     "text": [
      "300, 0, 144, 1, 0, 0\n",
      "300, 0, 144, 0, 1, 0\n",
      "300, 0, 144, 0, 0, 1\n",
      "300, 0, 144, 1, 1, 0\n",
      "300, 0, 108, 0, 1, 1\n",
      "184, 0, 72, 1, 0, 1\n",
      "184, 0, 72, 0, 0, 0\n",
      "184, 0, 72, 0, 0, 0\n",
      "184, 0, 72, 0, 0, 0\n"
     ]
    }
   ],
   "source": [
    "\n",
    "def read_file(file_path):\n",
    "    infile = open(file_path, \"r\")\n",
    "    data = infile.read()\n",
    "    print(data)\n",
    "\n",
    "\n",
    "\n",
    "def read_file_line(file_path):\n",
    "    infile = open(file_path, \"r\")\n",
    "    for line in infile:\n",
    "        print(line[0:-1])\n",
    "    infile.close()\n",
    "\n",
    "read_file_line(\"/Users/xiafei/Downloads/data.txt\")"
   ]
  },
  {
   "cell_type": "code",
   "execution_count": 1,
   "metadata": {},
   "outputs": [
    {
     "name": "stdout",
     "output_type": "stream",
     "text": [
      "[[300.0, 0.0, 144.0, 1.0, 0.0, 0.0], [300.0, 0.0, 144.0, 0.0, 1.0, 0.0], [300.0, 0.0, 144.0, 0.0, 0.0, 1.0], [300.0, 0.0, 144.0, 1.0, 1.0, 0.0], [300.0, 0.0, 108.0, 0.0, 1.0, 1.0], [184.0, 0.0, 72.0, 1.0, 0.0, 1.0], [184.0, 0.0, 72.0, 0.0, 0.0, 0.0], [184.0, 0.0, 72.0, 0.0, 0.0, 0.0], [184.0, 0.0, 72.0, 0.0, 0.0, 0.0]]\n"
     ]
    }
   ],
   "source": [
    "import turtle\n",
    "\n",
    "def my_draw(file_path):\n",
    "    # 设置窗口\n",
    "    turtle.title(\"三毛画画挨打教学\")\n",
    "    turtle.setup(800, 600, 0, 0)\n",
    "    # 设置画笔\n",
    "    pen = turtle.Turtle()\n",
    "    pen.color(\"yellow\")\n",
    "    pen.width(5)\n",
    "    pen.shape(\"turtle\")\n",
    "    pen.speed(5)\n",
    "    #读取文件\n",
    "    result = []\n",
    "    infile = open(file_path, \"r\")\n",
    "    for line in infile: \n",
    "        result.append(list(map(float, line.split(\",\"))))\n",
    "    print(result)\n",
    "    \n",
    "    #动态绘制\n",
    "    for i in range(len(result)):\n",
    "        # 设置颜色\n",
    "        pen.color(result[i][3],result[i][4],result[i][5])\n",
    "        # 行进距离\n",
    "        pen.fd(result[i][0])\n",
    "        # 转度\n",
    "        if result[i][1] == 1.0:\n",
    "            pen.rt(result[i][2])\n",
    "        else:\n",
    "            pen.lt(result[i][2])\n",
    "\n",
    "    pen.goto(0, 0)\n",
    "    \n",
    "my_draw(\"/Users/xiafei/Downloads/data.txt\")"
   ]
  },
  {
   "cell_type": "code",
   "execution_count": 14,
   "metadata": {},
   "outputs": [
    {
     "name": "stdout",
     "output_type": "stream",
     "text": [
      "Thoese two files are merged!\n"
     ]
    }
   ],
   "source": [
    "f1 = open(\"u-phone.txt\", \"rb\")\n",
    "f2 = open(\"u-email.txt\", \"rb\")\n",
    "\n",
    "f1.readline()\n",
    "f2.readline()\n",
    "\n",
    "lines = []\n",
    "lines1 = f1.readlines()\n",
    "lines2 = f2.readlines()\n",
    "\n",
    "list1_id = []\n",
    "list1_name = []\n",
    "list1_email = []\n",
    "list2_id = []\n",
    "list2_name = []\n",
    "list2_phone = []\n",
    "\n",
    "for line in lines1: # 获取第一个文本中的id,姓名和邮箱\n",
    "    e = line.split()\n",
    "    list1_id.append(str(e[0].decode(\"utf-8\")))\n",
    "    list1_name.append(str(e[1].decode(\"utf-8\")))\n",
    "    list1_email.append(str(e[2].decode(\"utf-8\")))\n",
    "    \n",
    "for line in lines2: # 获取第一个文本中的id,姓名和电话\n",
    "    e = line.split()\n",
    "    list2_id.append(str(e[0].decode(\"utf-8\")))\n",
    "    list2_name.append(str(e[1].decode(\"utf-8\")))\n",
    "    list2_phone.append(str(e[2].decode(\"utf-8\")))\n",
    "    \n",
    "# 处理表1和表1,2共有的\n",
    "for i in range(len(list1_id)):\n",
    "    s = \"\"\n",
    "    if list1_id[i] in list2_id:\n",
    "        j = list2_id.index(list1_id[i]) #找到对应的下标\n",
    "        s = \"\\t\".join([list1_id[i], list1_name[i], list1_email[i], list2_phone[j]])\n",
    "        s += \"\\n\" # 换行\n",
    "    else:\n",
    "        s = \"\\t\".join([list1_id[i], list1_name[i], list1_email[i], \"    ----    \"])\n",
    "        s += \"\\n\"\n",
    "    lines.append(s)\n",
    "\n",
    "# 处理表2剩余的\n",
    "for i in range(len(list2_id)):\n",
    "    s=\"\"\n",
    "    if list2_id[i] not in list1_id:\n",
    "        s = \"\\t\".join([list2_id[i], list2_name[i], \"    ----    \", list2_phone[i]])\n",
    "        s += \"\\n\"\n",
    "    lines.append(s)\n",
    "\n",
    "f3 = open(\"u-all.txt\", \"w\")\n",
    "f3.writelines(lines)\n",
    "f3.close()\n",
    "f1.close()\n",
    "f2.close()\n",
    "\n",
    "print(\"Thoese two files are merged!\")\n",
    "    \n",
    "    "
   ]
  },
  {
   "cell_type": "code",
   "execution_count": null,
   "metadata": {},
   "outputs": [],
   "source": []
  }
 ],
 "metadata": {
  "kernelspec": {
   "display_name": "Python 3",
   "language": "python",
   "name": "python3"
  },
  "language_info": {
   "codemirror_mode": {
    "name": "ipython",
    "version": 3
   },
   "file_extension": ".py",
   "mimetype": "text/x-python",
   "name": "python",
   "nbconvert_exporter": "python",
   "pygments_lexer": "ipython3",
   "version": "3.7.6"
  }
 },
 "nbformat": 4,
 "nbformat_minor": 4
}
