{
 "cells": [
  {
   "cell_type": "code",
   "execution_count": 12,
   "metadata": {},
   "outputs": [],
   "source": [
    "from turtle import *\n",
    "from random import *\n",
    "\n",
    "def snow(n):\n",
    "    hideturtle()\n",
    "    pensize(5)\n",
    "    \n",
    "    for i in range(n):\n",
    "        # 三原色 \n",
    "        r = random()\n",
    "        g = random()\n",
    "        b = random()\n",
    "        pencolor(r, g, b)\n",
    "        # 抬起画笔\n",
    "        penup()\n",
    "        setx(randint(-350, 350))\n",
    "        sety(randint(1, 280))\n",
    "        # 放下画笔\n",
    "        pendown()\n",
    "        \n",
    "        snowsize = randint(10, 15)\n",
    "        # 雪花的花瓣数\n",
    "        nums = randint(8, 12)\n",
    "        \n",
    "        for j in range(nums):\n",
    "            forward(snowsize)\n",
    "            backward(snowsize)\n",
    "            # left也可以\n",
    "            right(360/nums)\n",
    "\n",
    "def main():\n",
    "    setup(800, 600, 0, 0)\n",
    "    # 一次性画完\n",
    "    tracer(False)\n",
    "    bgcolor('white')\n",
    "    snow(100)\n",
    "    # 保持窗口不关闭\n",
    "    mainloop()\n",
    "        \n",
    "# 如果其他人引用了这个.py, 会自动调用这里面直接写在外面的函数方法\n",
    "# main()\n",
    "# 当直接运行这个.py文件本身的时候，调用以下内容\n",
    "if __name__ == '__main__':\n",
    "    main()\n",
    "    \n",
    "# TF-IDF\n",
    "# 如果一篇文章中的某个词，比如cats，出现的次数在这个文章中比较多，但是在总体环境中出现的比较低，那么这个单词将具有代表性\n",
    "\n",
    "\n"
   ]
  },
  {
   "cell_type": "code",
   "execution_count": null,
   "metadata": {},
   "outputs": [],
   "source": []
  },
  {
   "cell_type": "code",
   "execution_count": null,
   "metadata": {},
   "outputs": [],
   "source": []
  }
 ],
 "metadata": {
  "kernelspec": {
   "display_name": "Python 3",
   "language": "python",
   "name": "python3"
  },
  "language_info": {
   "codemirror_mode": {
    "name": "ipython",
    "version": 3
   },
   "file_extension": ".py",
   "mimetype": "text/x-python",
   "name": "python",
   "nbconvert_exporter": "python",
   "pygments_lexer": "ipython3",
   "version": "3.7.6"
  }
 },
 "nbformat": 4,
 "nbformat_minor": 4
}
