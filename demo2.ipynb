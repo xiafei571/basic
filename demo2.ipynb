{
 "cells": [
  {
   "cell_type": "code",
   "execution_count": 1,
   "metadata": {},
   "outputs": [
    {
     "name": "stdout",
     "output_type": "stream",
     "text": [
      "a-b-c\n"
     ]
    }
   ],
   "source": [
    "print(\"{0}-{1}-{2}\".format(\"a\",\"b\",\"c\"))"
   ]
  },
  {
   "cell_type": "code",
   "execution_count": 6,
   "metadata": {},
   "outputs": [
    {
     "name": "stdout",
     "output_type": "stream",
     "text": [
      "The\n",
      "1.The, 2.PERFECT, 3.WEAPON\n"
     ]
    }
   ],
   "source": [
    "list=[\"The\", \"PERFECT\", \"WEAPON\"]\n",
    "\n",
    "print(list[0])\n",
    "\n",
    "print(\"1.{0[0]}, 2.{0[1]}, 3.{0[2]}\".format(list))"
   ]
  },
  {
   "cell_type": "code",
   "execution_count": 8,
   "metadata": {},
   "outputs": [
    {
     "name": "stdout",
     "output_type": "stream",
     "text": [
      "网站名：google, 地址：www.google.com\n"
     ]
    }
   ],
   "source": [
    "site={\"name\":\"google\", \"url\":\"www.google.com\"} # key:value\n",
    "\n",
    "print(\"网站名：{name}, 地址：{url}\".format(**site)) # 引用的如果是词典，需要在前面加 **\n"
   ]
  },
  {
   "cell_type": "code",
   "execution_count": 19,
   "metadata": {},
   "outputs": [
    {
     "name": "stdout",
     "output_type": "stream",
     "text": [
      "取两位的PI：3.14\n",
      "取两位整数：2\n",
      "取两位整数：02\n",
      "取两位整数：20\n",
      "2进制:10100\n",
      "16进制:a\n"
     ]
    }
   ],
   "source": [
    "print(\"取两位的PI：{:.2f}\".format(3.1415926))\n",
    "\n",
    "print(\"取两位整数：{0}\".format(2))\n",
    "print(\"取两位整数：{:0>2d}\".format(2))\n",
    "print(\"取两位整数：{:2d}\".format(20))\n",
    "\n",
    "print(\"2进制:{:b}\".format(20))\n",
    "print(\"16进制:{:x}\".format(10))\n",
    "# 16进制：1-9 a b c d e f 10 11 12 13 14"
   ]
  },
  {
   "cell_type": "code",
   "execution_count": 26,
   "metadata": {},
   "outputs": [
    {
     "name": "stdout",
     "output_type": "stream",
     "text": [
      "1 * 1 = 1  \n",
      "2 * 1 = 2  2 * 2 = 4  \n",
      "3 * 1 = 3  3 * 2 = 6  3 * 3 = 9  \n",
      "4 * 1 = 4  4 * 2 = 8  4 * 3 =12  4 * 4 =16  \n",
      "5 * 1 = 5  5 * 2 =10  5 * 3 =15  5 * 4 =20  5 * 5 =25  \n",
      "6 * 1 = 6  6 * 2 =12  6 * 3 =18  6 * 4 =24  6 * 5 =30  6 * 6 =36  \n",
      "7 * 1 = 7  7 * 2 =14  7 * 3 =21  7 * 4 =28  7 * 5 =35  7 * 6 =42  7 * 7 =49  \n",
      "8 * 1 = 8  8 * 2 =16  8 * 3 =24  8 * 4 =32  8 * 5 =40  8 * 6 =48  8 * 7 =56  8 * 8 =64  \n",
      "9 * 1 = 9  9 * 2 =18  9 * 3 =27  9 * 4 =36  9 * 5 =45  9 * 6 =54  9 * 7 =63  9 * 8 =72  9 * 9 =81  \n"
     ]
    }
   ],
   "source": [
    "# 99乘法表\n",
    "# 1*1 =1\n",
    "# 2*1 =2  2*2 =4\n",
    "# 3*1 =3  3*2 =6  3*3 =9\n",
    "def p99(n): # 3\n",
    "    for i in range(1, n+1): # 1 2 3\n",
    "        for j in range(1, i+1): #[x,y)  y-1\n",
    "            print(i,\"*\",j,\"={:2d}\".format(i*j), end=\"  \")\n",
    "        print()\n",
    "            \n",
    "p99(9)\n",
    "\n"
   ]
  },
  {
   "cell_type": "code",
   "execution_count": 31,
   "metadata": {},
   "outputs": [
    {
     "name": "stdout",
     "output_type": "stream",
     "text": [
      "3\n",
      "1\n",
      "16\n",
      "3\n",
      "1\n",
      "16\n"
     ]
    }
   ],
   "source": [
    "import operator\n",
    "\n",
    "ops = {\"+\":operator.add, \"-\":operator.sub, \"*\":operator.mul, \"/\":operator.floordiv} # truediv 有小数的, floordiv 整除\n",
    "\n",
    "# ops[op](a, b) = operator.add(a,b)\n",
    "\n",
    "def calculator_v1(a,op,b):\n",
    "    return ops[op](a,b)\n",
    "\n",
    "def calculator(a,op,b):# + - * /\n",
    "    if op == \"+\":\n",
    "        return a+b\n",
    "    elif op == \"-\":\n",
    "        return a-b\n",
    "    elif op == \"*\":\n",
    "        return a*b\n",
    "    elif op == \"/\":\n",
    "        return a//b\n",
    "    else:\n",
    "        print(\"input error\")\n",
    "        return 0\n",
    "    \n",
    "print(calculator(1,\"+\",2))\n",
    "print(calculator(3,\"/\",2))\n",
    "print(calculator(calculator(3,\"*\",2),\"+\",10))\n",
    "\n",
    "print(calculator_v1(1,\"+\",2))\n",
    "print(calculator_v1(3,\"/\",2))\n",
    "print(calculator_v1(calculator(3,\"*\",2),\"+\",10))\n",
    "    "
   ]
  },
  {
   "cell_type": "code",
   "execution_count": 6,
   "metadata": {},
   "outputs": [
    {
     "name": "stdout",
     "output_type": "stream",
     "text": [
      "我来自东京\n",
      "东京\n"
     ]
    }
   ],
   "source": [
    "import re\n",
    "\n",
    "# re.match(regex, text)\n",
    "\n",
    "m = re.match(\"我来自(东京|大阪|京都|奈良|札幌)\", \"我来自东京，我喜欢大阪\")\n",
    "\n",
    "print(m.group(0))\n",
    "\n",
    "print(m.group(1))"
   ]
  },
  {
   "cell_type": "code",
   "execution_count": 11,
   "metadata": {},
   "outputs": [
    {
     "name": "stdout",
     "output_type": "stream",
     "text": [
      "True\n",
      "True\n",
      "False\n",
      "False\n",
      "False\n"
     ]
    }
   ],
   "source": [
    "import re\n",
    "\n",
    "#日本的邮编，支持的类型 123-4567,或者 1234567\n",
    "def is_vaild_postcode(code):\n",
    "    if re.match(\"^\\d{3}-?\\d{4}$\", code):\n",
    "        return True\n",
    "    else:\n",
    "        return False\n",
    "\n",
    "print(is_vaild_postcode(\"112-0015\"))\n",
    "print(is_vaild_postcode(\"1120015\"))\n",
    "print(is_vaild_postcode(\"11120015\"))\n",
    "print(is_vaild_postcode(\"11200151\"))\n",
    "print(is_vaild_postcode(\"12001\"))\n",
    "    "
   ]
  },
  {
   "cell_type": "code",
   "execution_count": 13,
   "metadata": {
    "scrolled": false
   },
   "outputs": [
    {
     "name": "stdout",
     "output_type": "stream",
     "text": [
      "[1, 2, 3, 4, 5, 6, 7, 8, 9, 10]\n",
      "[1, 4, 9, 16, 25, 36, 49, 64, 81, 100]\n",
      "['AD', 'AE', 'AF', 'BD', 'BE', 'BF', 'CD', 'CE', 'CF']\n",
      "[[0, 0, 0, 0, 0, 0, 0, 0, 0, 0], [0, 0, 0, 0, 0, 0, 0, 0, 0, 0], [0, 0, 0, 0, 0, 0, 0, 0, 0, 0]]\n",
      "[[0, 0, 0, 0, 0, 0, 0, 0, 0, 0], [0, 0, 0, 0, 0, 0, 0, 0, 0, 0], [0, 0, 0, 0, 0, 0, 0, 0, 0, 0]]\n",
      "apple\n",
      "pear\n",
      "banana\n",
      "cherry\n",
      "0 apple\n",
      "1 pear\n",
      "2 banana\n",
      "3 cherry\n"
     ]
    }
   ],
   "source": [
    "a = list(range(1,11))\n",
    "print(a)\n",
    "\n",
    "b = [x*x for x in range(1,11)]\n",
    "print(b)\n",
    "\n",
    "c = [m + n for m in 'ABC' for n in 'DEF']\n",
    "print(c)\n",
    "\n",
    "d = [[0 for _ in range(10)] for _ in range(3)]\n",
    "print(d)\n",
    "\n",
    "def make2d(height, width):\n",
    "    return [[0 for _ in range(width)] for _ in range(height)]\n",
    "\n",
    "e = make2d(3, 10)\n",
    "print(e)\n",
    "\n",
    "fruits = [\"apple\", \"pear\", \"banana\", \"cherry\"]\n",
    "# 直接迭代\n",
    "for f in fruits:\n",
    "    print(f)\n",
    "\n",
    "# print(fruits[2])\n",
    "# print(len(fruits))\n",
    "# for <index> in range(len(<list>)): list[index]\n",
    "for i in range(len(fruits)):\n",
    "    print(i, fruits[i])\n",
    "\n",
    "\n",
    "\n"
   ]
  },
  {
   "cell_type": "code",
   "execution_count": 21,
   "metadata": {},
   "outputs": [
    {
     "name": "stdout",
     "output_type": "stream",
     "text": [
      "a 1\n",
      "b 2\n",
      "c 3\n",
      "H\n",
      "e\n",
      "l\n",
      "l\n",
      "o\n",
      "x: 1 y: 2\n",
      "x: 3 y: 4\n",
      "x: 5 y: 6\n"
     ]
    }
   ],
   "source": [
    "g = {\"a\":1, \"b\":2, \"c\":3}\n",
    "\n",
    "for key in g:\n",
    "    print(key, g[key])\n",
    "\n",
    "for ch in \"Hello\":\n",
    "    print(ch)\n",
    "\n",
    "for x, y in [(1,2),(3,4),(5,6)]:\n",
    "    print(\"x:\",x, \"y:\",y)\n"
   ]
  },
  {
   "cell_type": "code",
   "execution_count": 27,
   "metadata": {},
   "outputs": [
    {
     "name": "stdout",
     "output_type": "stream",
     "text": [
      "Lisa Diandian\n",
      "['Lisa', 'Diandian']\n",
      "['Lisa', 'Diandian']\n",
      "[1, 3, 5, 7, 9]\n",
      "[1, 6, 11, 16]\n"
     ]
    }
   ],
   "source": [
    "classmates = [\"YMY\", \"Lisa\", \"Diandian\"]\n",
    "# 直接用下标取 [index]\n",
    "print(classmates[1],classmates[2])\n",
    "\n",
    "# 指定索引范围 [start:end]  数学：[start,end)\n",
    "print(classmates[1:3])\n",
    "# 倒着取\n",
    "print(classmates[-2:])\n",
    "\n",
    "# 也可以选择每几个取一个：[start:end:step]  step:步长\n",
    "# L[:10:2] # 前10个元素，每两个取一个\n",
    "L = [x for x in range(1,21)]\n",
    "print(L[:10:2])\n",
    "# 所有元素，每5个取一个\n",
    "print(L[::5])\n"
   ]
  },
  {
   "cell_type": "code",
   "execution_count": 30,
   "metadata": {},
   "outputs": [
    {
     "name": "stdout",
     "output_type": "stream",
     "text": [
      "0 0 1\n",
      "0 1 2\n",
      "0 2 3\n",
      "1 0 10\n",
      "1 1 20\n",
      "1 2 30\n"
     ]
    }
   ],
   "source": [
    "a2 = [[1,2,3], [10,20,30]]\n",
    "\n",
    "for i in range(len(a2)):\n",
    "    # print(a2[i])  a2[0] = [1, 2, 3], a2[1] = [10, 20, 30]\n",
    "    for j in range(len(a2[i])):\n",
    "        print(i,j, a2[i][j])\n",
    "               \n",
    "\n"
   ]
  },
  {
   "cell_type": "code",
   "execution_count": null,
   "metadata": {},
   "outputs": [],
   "source": []
  }
 ],
 "metadata": {
  "kernelspec": {
   "display_name": "Python 3",
   "language": "python",
   "name": "python3"
  },
  "language_info": {
   "codemirror_mode": {
    "name": "ipython",
    "version": 3
   },
   "file_extension": ".py",
   "mimetype": "text/x-python",
   "name": "python",
   "nbconvert_exporter": "python",
   "pygments_lexer": "ipython3",
   "version": "3.7.6"
  }
 },
 "nbformat": 4,
 "nbformat_minor": 4
}
