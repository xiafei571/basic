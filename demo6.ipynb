{
 "cells": [
  {
   "cell_type": "code",
   "execution_count": 3,
   "metadata": {},
   "outputs": [
    {
     "name": "stdout",
     "output_type": "stream",
     "text": [
      "拼接完成\n"
     ]
    }
   ],
   "source": [
    "# 读取两个文件\n",
    "f1 = open('u-email.txt', 'rb')\n",
    "f2 = open('u-phone.txt', 'rb')\n",
    "\n",
    "# 跳过文件首航\n",
    "f1.readline()\n",
    "f2.readline()\n",
    "\n",
    "# 初始化一些容器\n",
    "lines = []\n",
    "lines1 = f1.readlines()\n",
    "lines2 = f2.readlines()\n",
    "\n",
    "list1_id = []\n",
    "list1_name = []\n",
    "list1_email = []\n",
    "\n",
    "list2_id = []\n",
    "list2_name = []\n",
    "list2_phone = []\n",
    "\n",
    "# 获得第一个文件中的id 姓名 邮箱 \"491964\t夏雨\txiayu571@gmail.com\" -> [491964,夏雨, xiayu571@gmail.com]\n",
    "for line in lines1:\n",
    "    e = line.split()\n",
    "    list1_id.append(str(e[0].decode('utf-8')))\n",
    "    list1_name.append(str(e[1].decode('utf-8')))\n",
    "    list1_email.append(str(e[2].decode('utf-8')))\n",
    "\n",
    "for line in lines2:\n",
    "    e = line.split()\n",
    "    list2_id.append(str(e[0].decode('utf-8')))\n",
    "    list2_name.append(str(e[1].decode('utf-8')))\n",
    "    list2_phone.append(str(e[2].decode('utf-8')))\n",
    "        \n",
    "\n",
    "# 处理表1和表2共有的数据\n",
    "for i in range(len(list1_id)):\n",
    "    s = ''\n",
    "    if list1_id[i] in list2_id:\n",
    "        # 找到表2中对应的下标\n",
    "        j = list2_id.index(list1_id[i]) \n",
    "        # 拼接\n",
    "        s = '\\t'.join([list1_id[i], list1_name[i], list1_email[i], list2_phone[j]])\n",
    "    else:\n",
    "        s = '\\t'.join([list1_id[i], list1_name[i], list1_email[i], '    ----    '])\n",
    "        \n",
    "    s += '\\n'\n",
    "    lines.append(s)\n",
    "\n",
    "# 处理表2剩余的\n",
    "for i in range(len(list2_id)):\n",
    "    s = ''\n",
    "    # 找到不在第1个表里的\n",
    "    if list2_id[i] not in list1_id:\n",
    "        s = '\\t'.join([list2_id[i], list2_name[i], '    ----    ', list2_phone[i]])\n",
    "        s+='\\n'\n",
    "    lines.append(s)\n",
    "    \n",
    "# 把拼接好的内容 写到新的文件里\n",
    "f3 = open('u-all.txt', 'w')\n",
    "f3.writelines(lines)\n",
    "\n",
    "f3.close()\n",
    "f1.close()\n",
    "f2.close()\n",
    "print(\"拼接完成\")"
   ]
  },
  {
   "cell_type": "code",
   "execution_count": 13,
   "metadata": {},
   "outputs": [
    {
     "name": "stdout",
     "output_type": "stream",
     "text": [
      "10010\n",
      "10011\n",
      "10012\n",
      "Tom\n",
      "Jerry\n",
      "Spongebob\n",
      "('10010', 'Tom')\n",
      "('10011', 'Jerry')\n",
      "('10012', 'Spongebob')\n",
      "10010 Tom\n",
      "10011 Jerry\n",
      "10012 Spongebob\n",
      "False\n",
      "True\n",
      "Spongebob\n",
      "Spongebob\n"
     ]
    }
   ],
   "source": [
    "\n",
    "dic = {'10010':'Tom', '10011':'Jerry'}\n",
    "dic['10012'] = 'Spongebob'\n",
    "\n",
    "for k in dic.keys():\n",
    "    print(k)\n",
    "\n",
    "for v in dic.values():\n",
    "    print(v)\n",
    "    \n",
    "for item in dic.items():\n",
    "    print(item)\n",
    "\n",
    "for v, k in dic.items():\n",
    "    print(v, k)\n",
    "\n",
    "print('10099' in dic)\n",
    "print('10010' in dic)\n",
    "print(dic.get('10012'))\n",
    "print(dic['10012'])"
   ]
  },
  {
   "cell_type": "code",
   "execution_count": null,
   "metadata": {},
   "outputs": [],
   "source": []
  }
 ],
 "metadata": {
  "kernelspec": {
   "display_name": "Python 3",
   "language": "python",
   "name": "python3"
  },
  "language_info": {
   "codemirror_mode": {
    "name": "ipython",
    "version": 3
   },
   "file_extension": ".py",
   "mimetype": "text/x-python",
   "name": "python",
   "nbconvert_exporter": "python",
   "pygments_lexer": "ipython3",
   "version": "3.7.6"
  }
 },
 "nbformat": 4,
 "nbformat_minor": 4
}
