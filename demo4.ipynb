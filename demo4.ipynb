{
 "cells": [
  {
   "cell_type": "code",
   "execution_count": 21,
   "metadata": {},
   "outputs": [
    {
     "name": "stdout",
     "output_type": "stream",
     "text": [
      "Jennifer Yu : 100\n",
      "Xia Fei : 66\n",
      "A\n",
      "B\n",
      "100\n",
      "Jennifer Yu\n"
     ]
    }
   ],
   "source": [
    "# 定义一个student类\n",
    "class Student():\n",
    "    def __init__(self, n, s):\n",
    "        self.__name = n # __ 表示 private\n",
    "        self.__score = s\n",
    "    \n",
    "    def print_score(self):\n",
    "        print(self.__name,\":\",self.__score)\n",
    "    \n",
    "    def get_grade(self):\n",
    "        if self.__score >=90:\n",
    "            return \"A\"\n",
    "        elif self.__score >=60:\n",
    "            return \"B\"\n",
    "        else:\n",
    "            return \"C\"\n",
    "        \n",
    "    def get_score(self):\n",
    "        return self.__score\n",
    "    \n",
    "    def get_name(self):\n",
    "        return self.__name\n",
    "\n",
    "\n",
    "# 实例化一个类\n",
    "ymy = Student(\"Jennifer Yu\", 100)\n",
    "xf = Student(\"Xia Fei\", 66)\n",
    "\n",
    "\n",
    "# ymy.score = 99 # 无效了\n",
    "\n",
    "# print_score(ymy)\n",
    "\n",
    "ymy.print_score()\n",
    "xf.print_score()\n",
    "\n",
    "print(ymy.get_grade())\n",
    "print(xf.get_grade())\n",
    "\n",
    "# 我想要 ymy.score\n",
    "print(ymy.get_score())\n",
    "# ymy.name\n",
    "print(ymy.get_name())"
   ]
  },
  {
   "cell_type": "code",
   "execution_count": 25,
   "metadata": {},
   "outputs": [
    {
     "name": "stdout",
     "output_type": "stream",
     "text": [
      "['Lisa', 'DianDian']\n",
      "['DianDian', 'Lisa', 'Mom']\n"
     ]
    }
   ],
   "source": [
    "#queue\n",
    "\n",
    "class Queue():\n",
    "    def __init__(self): # 初始化方法\n",
    "        self.__entries = [] # 表示队列\n",
    "        self.__length = 0 # 队列长度\n",
    "        self.__front = 0 # 队首位置\n",
    "    \n",
    "    def enqueue(self, item): #入队\n",
    "        self.__entries.append(item) # 添加元素\n",
    "        self.__length = self.__length + 1\n",
    "    \n",
    "    def dequeue(self): #出队\n",
    "        self.__length = self.__length - 1 # 队列长度-1\n",
    "        dequeue = self.__entries[self.__front] # 拿到当前队首\n",
    "        self.__front = self.__front + 1 # 队首位置右移\n",
    "        self.__entries = self.__entries[self.__front:] #队列元素更新\n",
    "        return dequeue\n",
    "    \n",
    "    def peek(self):\n",
    "        return self.__entries[self.__front]\n",
    "    \n",
    "    def print_queue(self):\n",
    "        print(self.__entries)\n",
    "    \n",
    "\n",
    "ymy_room = Queue()\n",
    "\n",
    "ymy_room.enqueue(\"Lisa\")\n",
    "\n",
    "ymy_room.enqueue(\"DianDian\")\n",
    "\n",
    "ymy_room.print_queue()\n",
    "\n",
    "# FIFO, First-In-First-Out\n",
    "\n",
    "ymy_room.dequeue()\n",
    "\n",
    "ymy_room.enqueue(\"Lisa\")\n",
    "ymy_room.enqueue(\"Mom\")\n",
    "ymy_room.print_queue()\n",
    "\n"
   ]
  },
  {
   "cell_type": "code",
   "execution_count": 3,
   "metadata": {},
   "outputs": [
    {
     "name": "stdout",
     "output_type": "stream",
     "text": [
      "请输入月份(1-12)2\n",
      "Feb\n"
     ]
    }
   ],
   "source": [
    "\n",
    "months = \"JanFebMarAprMayJunJulAugSepOctNovDec\"\n",
    "n = input(\"请输入月份(1-12)\")\n",
    "pos = (int(n)-1) * 3\n",
    "monthAbbrev = months[pos:pos+3]\n",
    "print(monthAbbrev)\n"
   ]
  },
  {
   "cell_type": "code",
   "execution_count": 24,
   "metadata": {},
   "outputs": [
    {
     "name": "stdout",
     "output_type": "stream",
     "text": [
      "3.2400439999999975\n",
      "3.141356945037842\n"
     ]
    }
   ],
   "source": [
    "from math import sqrt\n",
    "from random import random\n",
    "import time\n",
    "\n",
    "def point_in_range(x, y):\n",
    "    dist = sqrt(x**2 + y**2)\n",
    "    if dist <= 1.0:\n",
    "        return True\n",
    "    else:\n",
    "        return False\n",
    "    \n",
    "def cal_pi(times):\n",
    "    start = time.process_time()\n",
    "    \n",
    "    hits = 0\n",
    "    for i in range(times):\n",
    "        x,y = random(),random()\n",
    "        if point_in_range(x, y):\n",
    "            hits += 1\n",
    "    pi = 4 * (hits / times)\n",
    "    end = time.process_time()\n",
    "    print(end - start)\n",
    "    return pi\n",
    "\n",
    "print(cal_pi(2**23))\n",
    "    \n",
    "    "
   ]
  },
  {
   "cell_type": "code",
   "execution_count": 37,
   "metadata": {},
   "outputs": [
    {
     "name": "stdout",
     "output_type": "stream",
     "text": [
      "3\n",
      "6\n",
      "12\n",
      "14\n"
     ]
    }
   ],
   "source": [
    "class Node:\n",
    "\n",
    "    def __init__(self, data):\n",
    "\n",
    "        self.left = None\n",
    "        self.right = None\n",
    "        self.data = data\n",
    "\n",
    "\n",
    "    def PrintTree(self):\n",
    "        print(self.data)\n",
    "\n",
    "# root = Node(10)\n",
    "\n",
    "# root.PrintTree()\n",
    "\n",
    "class Node:\n",
    "\n",
    "    def __init__(self, data):\n",
    "\n",
    "        self.left = None\n",
    "        self.right = None\n",
    "        self.data = data\n",
    "\n",
    "    def insert(self, data):\n",
    "# Compare the new value with the parent node\n",
    "        if self.data:\n",
    "            if data < self.data:\n",
    "                if self.left is None:\n",
    "                    self.left = Node(data)\n",
    "                else:\n",
    "                    self.left.insert(data)\n",
    "            elif data > self.data:\n",
    "                if self.right is None:\n",
    "                    self.right = Node(data)\n",
    "                else:\n",
    "                    self.right.insert(data)\n",
    "        else:\n",
    "            self.data = data\n",
    "\n",
    "# Print the tree\n",
    "    def PrintTree(self):\n",
    "        if self.left:\n",
    "            self.left.PrintTree()\n",
    "        print( self.data),\n",
    "        if self.right:\n",
    "            self.right.PrintTree()\n",
    "\n",
    "# Use the insert method to add nodes\n",
    "root = Node(12)\n",
    "root.insert(6)\n",
    "root.insert(14)\n",
    "root.insert(3)\n",
    "\n",
    "root.PrintTree()"
   ]
  },
  {
   "cell_type": "code",
   "execution_count": null,
   "metadata": {},
   "outputs": [],
   "source": []
  }
 ],
 "metadata": {
  "kernelspec": {
   "display_name": "Python 3",
   "language": "python",
   "name": "python3"
  },
  "language_info": {
   "codemirror_mode": {
    "name": "ipython",
    "version": 3
   },
   "file_extension": ".py",
   "mimetype": "text/x-python",
   "name": "python",
   "nbconvert_exporter": "python",
   "pygments_lexer": "ipython3",
   "version": "3.7.6"
  }
 },
 "nbformat": 4,
 "nbformat_minor": 4
}
