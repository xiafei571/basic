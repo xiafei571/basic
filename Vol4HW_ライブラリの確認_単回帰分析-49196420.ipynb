{
 "cells": [
  {
   "cell_type": "markdown",
   "metadata": {},
   "source": [
    "# 単回帰分析"
   ]
  },
  {
   "cell_type": "markdown",
   "metadata": {},
   "source": [
    "## Source data\n",
    "### person_Births_data.csv\n",
    "政府統計の総合窓口（e-Stat）より  \n",
    "社会・人口統計体系→統計でみる市区町村のすがた2020→基礎データ→<a href=\"https://www.e-stat.go.jp/stat-search/files?page=1&layout=datalist&toukei=00200502&tstat=000001141146&cycle=0&tclass1=000001141147\">人口・世帯</a>  \n",
    "<a href=\"https://www.e-stat.go.jp/stat-search/file-download?statInfId=000031956085&fileKind=0\">元データのダウンロードリンク</a>\n",
    "\n",
    "この中から「市区町村」、「総人口」、「出生数」、「15～64歳人口」を抜き出し、整理したもの。\n",
    "\n",
    "## Data process\n",
    "I use the regex (^\\d{1,2}[\\s].+) to extract data of the Prefecture from the source data.\n",
    "Then I use the regex (,(?=\\d{3})) to process the separating character.\n",
    "\n",
    "## Data analysis\n",
    "I want to analyze the relationship between the total population and the number of births, so I extracted the total population and the population aged 15-64.\n",
    "\n",
    "From the function of df.corr(), we can see that (N_Persons, N_Births)=0.994952 < (N_15_64, N_Births)=0.995920.\n",
    "Therefore, I thought that choosing N_15_64 as the X field would yield better predictions, and the experimental results confirmed my suspicions.\n",
    "\n",
    "Since the results are not necessarily influenced by a single dimension, e.g. the number of births could also be related to the local gender ratio, economic status, home ownership, etc., I will try to add more dimensions to the prediction data in the future.\n",
    "\n",
    "Thank you for your lecture."
   ]
  },
  {
   "cell_type": "code",
   "execution_count": 49,
   "metadata": {},
   "outputs": [],
   "source": [
    "import pandas as pd\n",
    "import numpy as np\n",
    "import sklearn\n",
    "import matplotlib\n",
    "import seaborn as sns\n",
    "\n",
    "df = pd.read_csv('person_births_data.csv')"
   ]
  },
  {
   "cell_type": "code",
   "execution_count": 50,
   "metadata": {},
   "outputs": [
    {
     "data": {
      "text/html": [
       "<div>\n",
       "<style scoped>\n",
       "    .dataframe tbody tr th:only-of-type {\n",
       "        vertical-align: middle;\n",
       "    }\n",
       "\n",
       "    .dataframe tbody tr th {\n",
       "        vertical-align: top;\n",
       "    }\n",
       "\n",
       "    .dataframe thead th {\n",
       "        text-align: right;\n",
       "    }\n",
       "</style>\n",
       "<table border=\"1\" class=\"dataframe\">\n",
       "  <thead>\n",
       "    <tr style=\"text-align: right;\">\n",
       "      <th></th>\n",
       "      <th>Prefecture</th>\n",
       "      <th>N_Person</th>\n",
       "      <th>N_Births</th>\n",
       "      <th>N_15_64</th>\n",
       "    </tr>\n",
       "  </thead>\n",
       "  <tbody>\n",
       "    <tr>\n",
       "      <th>0</th>\n",
       "      <td>北海道</td>\n",
       "      <td>5381733</td>\n",
       "      <td>34040</td>\n",
       "      <td>3190804</td>\n",
       "    </tr>\n",
       "    <tr>\n",
       "      <th>1</th>\n",
       "      <td>青森県</td>\n",
       "      <td>1308265</td>\n",
       "      <td>8035</td>\n",
       "      <td>757867</td>\n",
       "    </tr>\n",
       "    <tr>\n",
       "      <th>2</th>\n",
       "      <td>岩手県</td>\n",
       "      <td>1279594</td>\n",
       "      <td>8175</td>\n",
       "      <td>734886</td>\n",
       "    </tr>\n",
       "    <tr>\n",
       "      <th>3</th>\n",
       "      <td>宮城県</td>\n",
       "      <td>2333899</td>\n",
       "      <td>16648</td>\n",
       "      <td>1410322</td>\n",
       "    </tr>\n",
       "    <tr>\n",
       "      <th>4</th>\n",
       "      <td>秋田県</td>\n",
       "      <td>1023119</td>\n",
       "      <td>5396</td>\n",
       "      <td>565237</td>\n",
       "    </tr>\n",
       "  </tbody>\n",
       "</table>\n",
       "</div>"
      ],
      "text/plain": [
       "  Prefecture  N_Person  N_Births   N_15_64\n",
       "0        北海道   5381733     34040   3190804\n",
       "1        青森県   1308265      8035    757867\n",
       "2        岩手県   1279594      8175    734886\n",
       "3        宮城県   2333899     16648   1410322\n",
       "4        秋田県   1023119      5396    565237"
      ]
     },
     "execution_count": 50,
     "metadata": {},
     "output_type": "execute_result"
    }
   ],
   "source": [
    "# 正しく読み込まれたことを確認\n",
    "df.head()"
   ]
  },
  {
   "cell_type": "markdown",
   "metadata": {},
   "source": [
    "### NumPyによる変換\n",
    "pandasのDataFrame型のデータを､numpyのarray型に変換する  \n",
    "（scikit-learnの取り扱いのため）"
   ]
  },
  {
   "cell_type": "code",
   "execution_count": 31,
   "metadata": {},
   "outputs": [
    {
     "data": {
      "text/html": [
       "<div>\n",
       "<style scoped>\n",
       "    .dataframe tbody tr th:only-of-type {\n",
       "        vertical-align: middle;\n",
       "    }\n",
       "\n",
       "    .dataframe tbody tr th {\n",
       "        vertical-align: top;\n",
       "    }\n",
       "\n",
       "    .dataframe thead th {\n",
       "        text-align: right;\n",
       "    }\n",
       "</style>\n",
       "<table border=\"1\" class=\"dataframe\">\n",
       "  <thead>\n",
       "    <tr style=\"text-align: right;\">\n",
       "      <th></th>\n",
       "      <th>N_Person</th>\n",
       "    </tr>\n",
       "  </thead>\n",
       "  <tbody>\n",
       "    <tr>\n",
       "      <th>0</th>\n",
       "      <td>5381733</td>\n",
       "    </tr>\n",
       "    <tr>\n",
       "      <th>1</th>\n",
       "      <td>1308265</td>\n",
       "    </tr>\n",
       "    <tr>\n",
       "      <th>2</th>\n",
       "      <td>1279594</td>\n",
       "    </tr>\n",
       "    <tr>\n",
       "      <th>3</th>\n",
       "      <td>2333899</td>\n",
       "    </tr>\n",
       "    <tr>\n",
       "      <th>4</th>\n",
       "      <td>1023119</td>\n",
       "    </tr>\n",
       "  </tbody>\n",
       "</table>\n",
       "</div>"
      ],
      "text/plain": [
       "   N_Person\n",
       "0   5381733\n",
       "1   1308265\n",
       "2   1279594\n",
       "3   2333899\n",
       "4   1023119"
      ]
     },
     "execution_count": 31,
     "metadata": {},
     "output_type": "execute_result"
    }
   ],
   "source": [
    "# locメソッドで列を指定できる\n",
    "df.loc[:, ['N_Person']].head()"
   ]
  },
  {
   "cell_type": "code",
   "execution_count": 32,
   "metadata": {},
   "outputs": [],
   "source": [
    "# 従業員数のデータをarrayに変換してXに格納\n",
    "X = np.array(df.loc[:, ['N_Person']])"
   ]
  },
  {
   "cell_type": "code",
   "execution_count": 33,
   "metadata": {},
   "outputs": [
    {
     "data": {
      "text/plain": [
       "array([[5381733],\n",
       "       [1308265],\n",
       "       [1279594],\n",
       "       [2333899],\n",
       "       [1023119]])"
      ]
     },
     "execution_count": 33,
     "metadata": {},
     "output_type": "execute_result"
    }
   ],
   "source": [
    "# 変換されたことを確認\n",
    "X[:5]"
   ]
  },
  {
   "cell_type": "code",
   "execution_count": 54,
   "metadata": {},
   "outputs": [
    {
     "data": {
      "text/plain": [
       "array([[34040],\n",
       "       [ 8035],\n",
       "       [ 8175],\n",
       "       [16648],\n",
       "       [ 5396]])"
      ]
     },
     "execution_count": 54,
     "metadata": {},
     "output_type": "execute_result"
    }
   ],
   "source": [
    "# Yも同様に\n",
    "Y = np.array(df.loc[:, ['N_Births']])\n",
    "Y[:5]"
   ]
  },
  {
   "cell_type": "markdown",
   "metadata": {},
   "source": [
    "## データの観察"
   ]
  },
  {
   "cell_type": "markdown",
   "metadata": {},
   "source": [
    "### データの可視化\n",
    "可視化をすることでデータの全体的な傾向を視覚的に捉えることができる。  \n",
    "まずは、matplotlibを用いて散布図により"
   ]
  },
  {
   "cell_type": "code",
   "execution_count": 35,
   "metadata": {},
   "outputs": [
    {
     "data": {
      "image/png": "[encoded data removed]",
      "text/plain": [
       "<Figure size 432x288 with 1 Axes>"
      ]
     },
     "metadata": {
      "needs_background": "light"
     },
     "output_type": "display_data"
    }
   ],
   "source": [
    "import matplotlib.pyplot as plt\n",
    "%matplotlib inline\n",
    "\n",
    "# 散布図を表示\n",
    "plt.scatter(X, Y)\n",
    "# タイトルを表示\n",
    "plt.title('persons vs births')\n",
    "# x軸のラベルを表示\n",
    "plt.xlabel('persons')\n",
    "# y軸のラベルを表示\n",
    "plt.ylabel('births')\n",
    "# 指定した内容でグラフを出力\n",
    "plt.show()"
   ]
  },
  {
   "cell_type": "code",
   "execution_count": 36,
   "metadata": {},
   "outputs": [
    {
     "data": {
      "image/png": "[encoded data removed]",
      "text/plain": [
       "<Figure size 432x432 with 12 Axes>"
      ]
     },
     "metadata": {
      "needs_background": "light"
     },
     "output_type": "display_data"
    }
   ],
   "source": [
    "# 参考\n",
    "# seabornを使うと散布図をまとめて出力できて便利\n",
    "# matplotlibをforで回しても良いけど...\n",
    "sns.pairplot(df, height=2.0)\n",
    "plt.show()"
   ]
  },
  {
   "cell_type": "markdown",
   "metadata": {},
   "source": [
    "### 相関係数のチェック"
   ]
  },
  {
   "cell_type": "markdown",
   "metadata": {},
   "source": [
    "相関係数をチェックすることで単回帰分析を用いるべきかどうかが判断できる\n",
    "（0に近いほど相関が弱く、1 or -1に近いほど相関が強い）"
   ]
  },
  {
   "cell_type": "code",
   "execution_count": 37,
   "metadata": {
    "scrolled": true
   },
   "outputs": [
    {
     "data": {
      "text/html": [
       "<div>\n",
       "<style scoped>\n",
       "    .dataframe tbody tr th:only-of-type {\n",
       "        vertical-align: middle;\n",
       "    }\n",
       "\n",
       "    .dataframe tbody tr th {\n",
       "        vertical-align: top;\n",
       "    }\n",
       "\n",
       "    .dataframe thead th {\n",
       "        text-align: right;\n",
       "    }\n",
       "</style>\n",
       "<table border=\"1\" class=\"dataframe\">\n",
       "  <thead>\n",
       "    <tr style=\"text-align: right;\">\n",
       "      <th></th>\n",
       "      <th>N_Person</th>\n",
       "      <th>N_Births</th>\n",
       "      <th>N_15_64</th>\n",
       "    </tr>\n",
       "  </thead>\n",
       "  <tbody>\n",
       "    <tr>\n",
       "      <th>N_Person</th>\n",
       "      <td>1.000000</td>\n",
       "      <td>0.994952</td>\n",
       "      <td>0.999304</td>\n",
       "    </tr>\n",
       "    <tr>\n",
       "      <th>N_Births</th>\n",
       "      <td>0.994952</td>\n",
       "      <td>1.000000</td>\n",
       "      <td>0.995920</td>\n",
       "    </tr>\n",
       "    <tr>\n",
       "      <th>N_15_64</th>\n",
       "      <td>0.999304</td>\n",
       "      <td>0.995920</td>\n",
       "      <td>1.000000</td>\n",
       "    </tr>\n",
       "  </tbody>\n",
       "</table>\n",
       "</div>"
      ],
      "text/plain": [
       "          N_Person  N_Births   N_15_64\n",
       "N_Person  1.000000  0.994952  0.999304\n",
       "N_Births  0.994952  1.000000  0.995920\n",
       " N_15_64  0.999304  0.995920  1.000000"
      ]
     },
     "execution_count": 37,
     "metadata": {},
     "output_type": "execute_result"
    }
   ],
   "source": [
    "# 相関係数行列を確認\n",
    "df.corr()"
   ]
  },
  {
   "cell_type": "markdown",
   "metadata": {},
   "source": [
    "## テストデータの分割"
   ]
  },
  {
   "cell_type": "markdown",
   "metadata": {},
   "source": [
    "学習用データとテストデータを分割することで、モデルの汎化性能を確認する。"
   ]
  },
  {
   "cell_type": "code",
   "execution_count": 38,
   "metadata": {},
   "outputs": [],
   "source": [
    "from sklearn.model_selection import train_test_split\n",
    "X_train, X_test, Y_train, Y_test = train_test_split(X, Y, test_size = 0.1, random_state = 0)\n",
    "# test_sizeを変更することで容易に分割の割合を変更できる"
   ]
  },
  {
   "cell_type": "code",
   "execution_count": 39,
   "metadata": {},
   "outputs": [
    {
     "name": "stdout",
     "output_type": "stream",
     "text": [
      "(47, 1)\n",
      "(47, 1)\n",
      "(42, 1)\n",
      "(42, 1)\n",
      "(5, 1)\n",
      "(5, 1)\n"
     ]
    }
   ],
   "source": [
    "# データ全体のサンプル数を確認\n",
    "print(X.shape)\n",
    "print(Y.shape)\n",
    "# trainデータのサンプル数を確認\n",
    "print(X_train.shape)\n",
    "print(Y_train.shape)\n",
    "# testデータのサンプル数を確認\n",
    "print(X_test.shape)\n",
    "print(Y_test.shape)"
   ]
  },
  {
   "cell_type": "markdown",
   "metadata": {},
   "source": [
    "## 線型モデルの構築"
   ]
  },
  {
   "cell_type": "markdown",
   "metadata": {},
   "source": [
    "### 線型モデルの学習"
   ]
  },
  {
   "cell_type": "code",
   "execution_count": 40,
   "metadata": {},
   "outputs": [
    {
     "data": {
      "text/plain": [
       "LinearRegression(copy_X=True, fit_intercept=True, n_jobs=None, normalize=False)"
      ]
     },
     "execution_count": 40,
     "metadata": {},
     "output_type": "execute_result"
    }
   ],
   "source": [
    "# 線形回帰のインスタンスを生成\n",
    "from sklearn.linear_model import LinearRegression\n",
    "lr = LinearRegression()\n",
    "\n",
    "# 線型回帰モデルを学習\n",
    "from sklearn.model_selection import learning_curve\n",
    "lc = learning_curve(lr, X_train, Y_train)\n",
    "lr.fit(X_train, Y_train)"
   ]
  },
  {
   "cell_type": "markdown",
   "metadata": {},
   "source": [
    "### モデルの解釈"
   ]
  },
  {
   "cell_type": "markdown",
   "metadata": {},
   "source": [
    "線型モデル$y = w_0 + w_1x_1$の$w_0$と$w_1$を求める"
   ]
  },
  {
   "cell_type": "code",
   "execution_count": 41,
   "metadata": {},
   "outputs": [
    {
     "data": {
      "text/plain": [
       "array([-955.81415849])"
      ]
     },
     "execution_count": 41,
     "metadata": {},
     "output_type": "execute_result"
    }
   ],
   "source": [
    "lr.intercept_"
   ]
  },
  {
   "cell_type": "code",
   "execution_count": 42,
   "metadata": {},
   "outputs": [
    {
     "data": {
      "text/plain": [
       "array([[0.00780069]])"
      ]
     },
     "execution_count": 42,
     "metadata": {},
     "output_type": "execute_result"
    }
   ],
   "source": [
    "lr.coef_"
   ]
  },
  {
   "cell_type": "markdown",
   "metadata": {},
   "source": [
    "つまり回帰式はおよそ以下のようになる。\n",
    "$$\\begin{align}\n",
    "y &= w_0 + w_1x_1\\\\\n",
    "&= -955+ 0.0078x_1\n",
    "\\end{align}$$"
   ]
  },
  {
   "cell_type": "markdown",
   "metadata": {},
   "source": [
    "## 線型モデルの確認"
   ]
  },
  {
   "cell_type": "markdown",
   "metadata": {},
   "source": [
    "### 線型モデルの可視化"
   ]
  },
  {
   "cell_type": "code",
   "execution_count": 43,
   "metadata": {
    "scrolled": true
   },
   "outputs": [
    {
     "data": {
      "image/png": "[encoded data removed]",
      "text/plain": [
       "<Figure size 432x288 with 1 Axes>"
      ]
     },
     "metadata": {
      "needs_background": "light"
     },
     "output_type": "display_data"
    }
   ],
   "source": [
    "# 線型モデルを表示\n",
    "plt.plot(X_train, lr.predict(X_train), color='red')\n",
    "\n",
    "# 以下は同様\n",
    "plt.scatter(X_train, Y_train)\n",
    "plt.title('persons vs births')\n",
    "plt.xlabel('persons')\n",
    "plt.ylabel('births')\n",
    "plt.show()"
   ]
  },
  {
   "cell_type": "markdown",
   "metadata": {},
   "source": [
    "### 回帰式の活用\n",
    "予測モデルとして活用してみると任意の従業員数から所得が導くことができることがわかる"
   ]
  },
  {
   "cell_type": "code",
   "execution_count": 44,
   "metadata": {},
   "outputs": [
    {
     "data": {
      "text/plain": [
       "array([[6844.8798143]])"
      ]
     },
     "execution_count": 44,
     "metadata": {},
     "output_type": "execute_result"
    }
   ],
   "source": [
    "# 任意の総人口を設定\n",
    "persons_1 = np.array([[1000000]])\n",
    "\n",
    "# 所得を推定\n",
    "lr.predict(persons_1)"
   ]
  },
  {
   "cell_type": "markdown",
   "metadata": {},
   "source": [
    "## モデルの評価"
   ]
  },
  {
   "cell_type": "markdown",
   "metadata": {},
   "source": [
    "決定係数$R^2$を用いてモデルの評価を行う"
   ]
  },
  {
   "cell_type": "code",
   "execution_count": 45,
   "metadata": {},
   "outputs": [
    {
     "name": "stdout",
     "output_type": "stream",
     "text": [
      "train: 0.990\n",
      "test : 0.979\n"
     ]
    }
   ],
   "source": [
    "#ただし、単回帰分析では相関係数と同じ結果になる\n",
    "print('train: %.3f' % lr.score(X_train, Y_train))\n",
    "print('test : %.3f' % lr.score(X_test, Y_test))"
   ]
  },
  {
   "cell_type": "markdown",
   "metadata": {},
   "source": [
    "# Use the column of Total population (15-64)"
   ]
  },
  {
   "cell_type": "code",
   "execution_count": 52,
   "metadata": {},
   "outputs": [
    {
     "data": {
      "text/html": [
       "<div>\n",
       "<style scoped>\n",
       "    .dataframe tbody tr th:only-of-type {\n",
       "        vertical-align: middle;\n",
       "    }\n",
       "\n",
       "    .dataframe tbody tr th {\n",
       "        vertical-align: top;\n",
       "    }\n",
       "\n",
       "    .dataframe thead th {\n",
       "        text-align: right;\n",
       "    }\n",
       "</style>\n",
       "<table border=\"1\" class=\"dataframe\">\n",
       "  <thead>\n",
       "    <tr style=\"text-align: right;\">\n",
       "      <th></th>\n",
       "      <th>Prefecture</th>\n",
       "      <th>N_Person</th>\n",
       "      <th>N_Births</th>\n",
       "      <th>N_15_64</th>\n",
       "    </tr>\n",
       "  </thead>\n",
       "  <tbody>\n",
       "    <tr>\n",
       "      <th>0</th>\n",
       "      <td>北海道</td>\n",
       "      <td>5381733</td>\n",
       "      <td>34040</td>\n",
       "      <td>3190804</td>\n",
       "    </tr>\n",
       "    <tr>\n",
       "      <th>1</th>\n",
       "      <td>青森県</td>\n",
       "      <td>1308265</td>\n",
       "      <td>8035</td>\n",
       "      <td>757867</td>\n",
       "    </tr>\n",
       "    <tr>\n",
       "      <th>2</th>\n",
       "      <td>岩手県</td>\n",
       "      <td>1279594</td>\n",
       "      <td>8175</td>\n",
       "      <td>734886</td>\n",
       "    </tr>\n",
       "    <tr>\n",
       "      <th>3</th>\n",
       "      <td>宮城県</td>\n",
       "      <td>2333899</td>\n",
       "      <td>16648</td>\n",
       "      <td>1410322</td>\n",
       "    </tr>\n",
       "    <tr>\n",
       "      <th>4</th>\n",
       "      <td>秋田県</td>\n",
       "      <td>1023119</td>\n",
       "      <td>5396</td>\n",
       "      <td>565237</td>\n",
       "    </tr>\n",
       "  </tbody>\n",
       "</table>\n",
       "</div>"
      ],
      "text/plain": [
       "  Prefecture  N_Person  N_Births   N_15_64\n",
       "0        北海道   5381733     34040   3190804\n",
       "1        青森県   1308265      8035    757867\n",
       "2        岩手県   1279594      8175    734886\n",
       "3        宮城県   2333899     16648   1410322\n",
       "4        秋田県   1023119      5396    565237"
      ]
     },
     "execution_count": 52,
     "metadata": {},
     "output_type": "execute_result"
    }
   ],
   "source": [
    "df.head()"
   ]
  },
  {
   "cell_type": "code",
   "execution_count": 57,
   "metadata": {},
   "outputs": [
    {
     "data": {
      "text/html": [
       "<div>\n",
       "<style scoped>\n",
       "    .dataframe tbody tr th:only-of-type {\n",
       "        vertical-align: middle;\n",
       "    }\n",
       "\n",
       "    .dataframe tbody tr th {\n",
       "        vertical-align: top;\n",
       "    }\n",
       "\n",
       "    .dataframe thead th {\n",
       "        text-align: right;\n",
       "    }\n",
       "</style>\n",
       "<table border=\"1\" class=\"dataframe\">\n",
       "  <thead>\n",
       "    <tr style=\"text-align: right;\">\n",
       "      <th></th>\n",
       "      <th>Prefecture</th>\n",
       "      <th>N_Person</th>\n",
       "      <th>N_Births</th>\n",
       "      <th>N_15_64</th>\n",
       "    </tr>\n",
       "  </thead>\n",
       "  <tbody>\n",
       "    <tr>\n",
       "      <th>0</th>\n",
       "      <td>北海道</td>\n",
       "      <td>5381733</td>\n",
       "      <td>34040</td>\n",
       "      <td>3190804</td>\n",
       "    </tr>\n",
       "    <tr>\n",
       "      <th>1</th>\n",
       "      <td>青森県</td>\n",
       "      <td>1308265</td>\n",
       "      <td>8035</td>\n",
       "      <td>757867</td>\n",
       "    </tr>\n",
       "    <tr>\n",
       "      <th>2</th>\n",
       "      <td>岩手県</td>\n",
       "      <td>1279594</td>\n",
       "      <td>8175</td>\n",
       "      <td>734886</td>\n",
       "    </tr>\n",
       "    <tr>\n",
       "      <th>3</th>\n",
       "      <td>宮城県</td>\n",
       "      <td>2333899</td>\n",
       "      <td>16648</td>\n",
       "      <td>1410322</td>\n",
       "    </tr>\n",
       "    <tr>\n",
       "      <th>4</th>\n",
       "      <td>秋田県</td>\n",
       "      <td>1023119</td>\n",
       "      <td>5396</td>\n",
       "      <td>565237</td>\n",
       "    </tr>\n",
       "  </tbody>\n",
       "</table>\n",
       "</div>"
      ],
      "text/plain": [
       "  Prefecture  N_Person  N_Births  N_15_64\n",
       "0        北海道   5381733     34040  3190804\n",
       "1        青森県   1308265      8035   757867\n",
       "2        岩手県   1279594      8175   734886\n",
       "3        宮城県   2333899     16648  1410322\n",
       "4        秋田県   1023119      5396   565237"
      ]
     },
     "execution_count": 57,
     "metadata": {},
     "output_type": "execute_result"
    }
   ],
   "source": [
    "df1 = pd.read_csv('person_births_data.csv')\n",
    "df1.head()"
   ]
  },
  {
   "cell_type": "code",
   "execution_count": 64,
   "metadata": {},
   "outputs": [
    {
     "name": "stdout",
     "output_type": "stream",
     "text": [
      "train: 0.993\n",
      "test : 0.988\n"
     ]
    }
   ],
   "source": [
    "# locメソッドで列を指定できる\n",
    "df1.loc[:, ['N_15_64']].head()\n",
    "X = np.array(df1.loc[:, ['N_15_64']])\n",
    "Y = np.array(df1.loc[:, ['N_Births']])\n",
    "from sklearn.model_selection import train_test_split\n",
    "X_train, X_test, Y_train, Y_test = train_test_split(X, Y, test_size = 0.2, random_state = 0)\n",
    "\n",
    "# 線形回帰のインスタンスを生成\n",
    "lr = LinearRegression()\n",
    "\n",
    "# 線型回帰モデルを学習\n",
    "lc = learning_curve(lr, X_train, Y_train)\n",
    "lr.fit(X_train, Y_train)\n",
    "\n",
    "#ただし、単回帰分析では相関係数と同じ結果になる\n",
    "print('train: %.3f' % lr.score(X_train, Y_train))\n",
    "print('test : %.3f' % lr.score(X_test, Y_test))\n"
   ]
  },
  {
   "cell_type": "code",
   "execution_count": null,
   "metadata": {},
   "outputs": [],
   "source": []
  }
 ],
 "metadata": {
  "kernelspec": {
   "display_name": "Python 3",
   "language": "python",
   "name": "python3"
  },
  "language_info": {
   "codemirror_mode": {
    "name": "ipython",
    "version": 3
   },
   "file_extension": ".py",
   "mimetype": "text/x-python",
   "name": "python",
   "nbconvert_exporter": "python",
   "pygments_lexer": "ipython3",
   "version": "3.7.6"
  }
 },
 "nbformat": 4,
 "nbformat_minor": 4
}
