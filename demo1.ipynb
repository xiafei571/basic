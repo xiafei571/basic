{
 "cells": [
  {
   "cell_type": "code",
   "execution_count": 1,
   "metadata": {},
   "outputs": [
    {
     "name": "stdout",
     "output_type": "stream",
     "text": [
      "please input the temperature (ex:32C)32c\n",
      "result: 89.60F\n"
     ]
    }
   ],
   "source": [
    "val = input(\"please input the temperature (ex:32C)\")\n",
    "\n",
    "if val[-1] in ['C', 'c']:\n",
    "    f = 1.8 * float(val[0:-1]) + 32\n",
    "    print(\"result: %.2fF\"%f)\n",
    "elif val[-1] in ['F', 'f']:\n",
    "    c = (float(val[0:-1])-32) / 1.8\n",
    "    print(\"result: %.2fC\"%c)\n",
    "else:\n",
    "    print(\"input error\")\n",
    "    "
   ]
  },
  {
   "cell_type": "code",
   "execution_count": 24,
   "metadata": {},
   "outputs": [
    {
     "name": "stdout",
     "output_type": "stream",
     "text": [
      "['1', '0', '1', '0', '0']\n"
     ]
    }
   ],
   "source": [
    "\n",
    "def dec2bin(num):\n",
    "    l = []\n",
    "    while num != 0:\n",
    "        l.append(str(num % 2))\n",
    "        num = num // 2\n",
    "#     return ''.join(l[::-1])\n",
    "    return l[::-1]\n",
    "\n",
    "print(dec2bin(20))"
   ]
  },
  {
   "cell_type": "code",
   "execution_count": 26,
   "metadata": {},
   "outputs": [
    {
     "name": "stdout",
     "output_type": "stream",
     "text": [
      "    *\n",
      "   ***\n",
      "  *****\n",
      " *******\n",
      "*********\n"
     ]
    }
   ],
   "source": [
    "def print_angle(row):\n",
    "    for i in range(row):\n",
    "        for j in range(row - i - 1):\n",
    "            print(\" \", end=\"\")\n",
    "        for k in range(2 * i + 1):\n",
    "            print(\"*\", end=\"\")\n",
    "        print(\"\")\n",
    "    \n",
    "        \n",
    "print_angle(5)"
   ]
  },
  {
   "cell_type": "code",
   "execution_count": 28,
   "metadata": {},
   "outputs": [
    {
     "name": "stdout",
     "output_type": "stream",
     "text": [
      "4\n",
      "4\n"
     ]
    }
   ],
   "source": [
    "def cal_rooms(s, n):\n",
    "    if n % s == 0:\n",
    "        return n //s\n",
    "    else:\n",
    "        return (n // s)+1\n",
    "    \n",
    "def cal_rooms_2(s, n):\n",
    "    return (n+s-1) // s\n",
    "\n",
    "print(cal_rooms(3,10))\n",
    "print(cal_rooms_2(3,10))\n",
    "        \n",
    "    "
   ]
  },
  {
   "cell_type": "code",
   "execution_count": 23,
   "metadata": {},
   "outputs": [
    {
     "name": "stdout",
     "output_type": "stream",
     "text": [
      "hello world\n",
      "hello world hello\n",
      "网站名：youtube, 地址 www.youtube.com\n",
      "网站名：google, 地址 www.google.com\n",
      "3.14\n",
      " 2\n",
      "20\n",
      "10100\n",
      "20\n",
      "24\n",
      "14\n",
      "1 * 1 =01  \n",
      "2 * 1 =02  2 * 2 =04  \n",
      "3 * 1 =03  3 * 2 =06  3 * 3 =09  \n",
      "4 * 1 =04  4 * 2 =08  4 * 3 =12  4 * 4 =16  \n",
      "5 * 1 =05  5 * 2 =10  5 * 3 =15  5 * 4 =20  5 * 5 =25  \n",
      "6 * 1 =06  6 * 2 =12  6 * 3 =18  6 * 4 =24  6 * 5 =30  6 * 6 =36  \n",
      "7 * 1 =07  7 * 2 =14  7 * 3 =21  7 * 4 =28  7 * 5 =35  7 * 6 =42  7 * 7 =49  \n",
      "8 * 1 =08  8 * 2 =16  8 * 3 =24  8 * 4 =32  8 * 5 =40  8 * 6 =48  8 * 7 =56  8 * 8 =64  \n",
      "9 * 1 =09  9 * 2 =18  9 * 3 =27  9 * 4 =36  9 * 5 =45  9 * 6 =54  9 * 7 =63  9 * 8 =72  9 * 9 =81  \n"
     ]
    }
   ],
   "source": [
    "print(\"{0} {1}\".format(\"hello\", \"world\"))\n",
    "print(\"{0} {1} {0}\".format(\"hello\", \"world\"))\n",
    "# hello world\n",
    "# hello world hello\n",
    "\n",
    "\n",
    "# 通过列表索引设置参数\n",
    "my_list = ['youtube', 'www.youtube.com']\n",
    "print(\"网站名：{0[0]}, 地址 {0[1]}\".format(my_list))  # \"0\" 是必须的\n",
    "# 网站名：youtube, 地址 www.youtube.com\n",
    "\n",
    "\n",
    "# 通过字典索引设置参数\n",
    "site = {\"name\": \"google\", \"url\": \"www.google.com\"}\n",
    "print(\"网站名：{name}, 地址 {url}\".format(**site)) # 传入字典时要将dict名前加 \"**\"\n",
    "# 网站名：google, 地址 www.google.com\n",
    " \n",
    "# 数字格式化\n",
    "print(\"{:.2f}\".format(3.1415926));\n",
    "# 3.14\n",
    "print(\"{:2d}\".format(2));\n",
    "print(\"{:2d}\".format(20));\n",
    "# 2\n",
    "#20\n",
    "\n",
    "# 进制转换\n",
    "print(\"{:b}\".format(20)) # 2\n",
    "print(\"{:d}\".format(20)) # 10\n",
    "print(\"{:o}\".format(20)) # 8\n",
    "print(\"{:x}\".format(20)) # 16\n",
    "\n",
    "def p99(x):\n",
    "    for i in range(1,x+1):\n",
    "        for j in range(1,i+1):\n",
    "            print(i,\"*\",j,\"={:0>2d} \".format(i*j), end=\" \")\n",
    "        print()\n",
    "        \n",
    "p99(9);\n"
   ]
  },
  {
   "cell_type": "code",
   "execution_count": 5,
   "metadata": {},
   "outputs": [
    {
     "name": "stdout",
     "output_type": "stream",
     "text": [
      "排序后的数组:\n",
      "[11, 12, 22, 25, 34, 64, 90]\n"
     ]
    }
   ],
   "source": [
    "def bubbleSort(arr):\n",
    " \n",
    "    # 遍历所有数组元素\n",
    "    for i in range(len(arr)):\n",
    " \n",
    "        # Last i elements are already in place\n",
    "        for j in range(i, len(arr)):\n",
    " \n",
    "            if arr[j] < arr[i] :\n",
    "                arr[j], arr[i] = arr[i], arr[j]\n",
    " \n",
    "arr = [64, 34, 25, 12, 22, 11, 90]\n",
    " \n",
    "bubbleSort(arr)\n",
    " \n",
    "print (\"排序后的数组:\")\n",
    "print(arr)"
   ]
  },
  {
   "cell_type": "code",
   "execution_count": 13,
   "metadata": {},
   "outputs": [
    {
     "name": "stdout",
     "output_type": "stream",
     "text": [
      "111-12345\n",
      "111\n"
     ]
    }
   ],
   "source": [
    "import re\n",
    "m = re.match(r'^(\\d{3})\\-(\\d{3,8})$', '111-12345')\n",
    "print(m.group(0))\n",
    "print(m.group(1))\n"
   ]
  },
  {
   "cell_type": "code",
   "execution_count": 14,
   "metadata": {},
   "outputs": [
    {
     "name": "stdout",
     "output_type": "stream",
     "text": [
      "111-12345\n",
      "111\n"
     ]
    }
   ],
   "source": [
    "import re\n",
    "m = re.match('^(\\d{3})-(\\d{3,8})$', '111-12345')\n",
    "print(m.group(0))\n",
    "print(m.group(1))"
   ]
  },
  {
   "cell_type": "code",
   "execution_count": 17,
   "metadata": {},
   "outputs": [
    {
     "name": "stdout",
     "output_type": "stream",
     "text": [
      "True\n",
      "True\n",
      "False\n"
     ]
    }
   ],
   "source": [
    "def is_valid_postcode(code):\n",
    "    if re.match(r'^\\d{3}-?\\d{4}$', code):\n",
    "        return True\n",
    "    else:\n",
    "        return False\n",
    "    \n",
    "print(is_valid_postcode(\"124-0001\"))\n",
    "print(is_valid_postcode(\"1120015\"))\n",
    "print(is_valid_postcode(\"01120015\"))\n",
    "    \n"
   ]
  },
  {
   "cell_type": "code",
   "execution_count": 19,
   "metadata": {},
   "outputs": [
    {
     "name": "stdout",
     "output_type": "stream",
     "text": [
      "我来自东京\n",
      "这个人来自？ 东京\n"
     ]
    }
   ],
   "source": [
    "import re\n",
    "m = re.match('我来自(东京|大阪|京都)', '我来自东京，我喜欢京都')\n",
    "print(m.group(0))\n",
    "print(\"这个人来自？\",m.group(1))\n"
   ]
  },
  {
   "cell_type": "code",
   "execution_count": 1,
   "metadata": {},
   "outputs": [
    {
     "name": "stdout",
     "output_type": "stream",
     "text": [
      "6\n"
     ]
    }
   ],
   "source": [
    "\n",
    "def fact(n):\n",
    "    if n == 1:\n",
    "        return 1\n",
    "    else:\n",
    "        return n * fact(n - 1)\n",
    "print(fact(3))\n"
   ]
  },
  {
   "cell_type": "code",
   "execution_count": 6,
   "metadata": {},
   "outputs": [
    {
     "name": "stdout",
     "output_type": "stream",
     "text": [
      "8\n"
     ]
    }
   ],
   "source": [
    "def fib(n):\n",
    "    if n == 0:\n",
    "        return 0\n",
    "    elif n == 1:\n",
    "        return 1\n",
    "    else:\n",
    "        return fib(n-2)+fib(n-1)\n",
    "    \n",
    "print(fib(6))"
   ]
  },
  {
   "cell_type": "code",
   "execution_count": null,
   "metadata": {},
   "outputs": [],
   "source": []
  }
 ],
 "metadata": {
  "kernelspec": {
   "display_name": "Python 3",
   "language": "python",
   "name": "python3"
  },
  "language_info": {
   "codemirror_mode": {
    "name": "ipython",
    "version": 3
   },
   "file_extension": ".py",
   "mimetype": "text/x-python",
   "name": "python",
   "nbconvert_exporter": "python",
   "pygments_lexer": "ipython3",
   "version": "3.7.6"
  }
 },
 "nbformat": 4,
 "nbformat_minor": 4
}
