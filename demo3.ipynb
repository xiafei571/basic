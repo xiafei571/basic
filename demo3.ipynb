{
 "cells": [
  {
   "cell_type": "code",
   "execution_count": 22,
   "metadata": {},
   "outputs": [
    {
     "name": "stdout",
     "output_type": "stream",
     "text": [
      "[[1, 2, 3, 6, 12], [10, 20, 30, 60, 120], [11, 22, 33, 66, 132], [22, 44, 66, 132, 264]]\n"
     ]
    }
   ],
   "source": [
    "a = [[1, 2, 3], [10, 20, 30]] \n",
    "\n",
    "def extend_sum(array):\n",
    "    array.append([0 for _ in range(len(array[0])+1)]) #[0, 0, 0, 0]\n",
    "    for i in range(len(array)-1):\n",
    "        array[i].append(0)\n",
    "        for j in range(len(array[i])-1):\n",
    "            #1. 累加到 i, len(array[i])\n",
    "            array[i][len(array[i])-1] += array[i][j]\n",
    "            #2. 累加到 len(array) -1, j\n",
    "            array[len(array)-1][j] += array[i][j]\n",
    "            #3. \n",
    "            array[len(array)-1][len(array[i])-1] += array[i][j]\n",
    "    return array\n",
    "\n",
    "b = extend_sum(a)\n",
    "\n",
    "print(extend_sum(b))\n"
   ]
  },
  {
   "cell_type": "code",
   "execution_count": 39,
   "metadata": {
    "scrolled": true
   },
   "outputs": [
    {
     "name": "stdout",
     "output_type": "stream",
     "text": [
      "请输入当前温度：20C\n",
      "输入的是摄氏度: 20\n",
      "输出华氏温度为:68\n"
     ]
    }
   ],
   "source": [
    "def conv_temp(val):\n",
    "    #判断用户输入的是摄氏度还是华氏度\n",
    "    #用户可以输入 32C， 华氏度 66F\n",
    "    if val[-1] == \"C\": # F = C * 1.8 + 32\n",
    "        print(\"输入的是摄氏度:\",val[:-1])\n",
    "        c = float(val[:-1]) * 1.8 + 32\n",
    "        print(\"输出华氏温度为:%2d\"%c )\n",
    "    elif val[-1] == \"F\": # C =（F - 32）/ 1.8\n",
    "        print(\"输入的是华氏温度:\", val[:-1])\n",
    "        f = (int(val[:-1]) - 32) / 1.8\n",
    "        print(\"输出摄氏温度为:%.2f\"%f)\n",
    "    else:\n",
    "        print(\"输入内容不合法，请输入 xxF或xxC\")\n",
    "\n",
    "# conv_temp(\"32C\")\n",
    "# conv_temp(\"89F\")\n",
    "# conv_temp(\"abc\")\n",
    "\n",
    "v = input(\"请输入当前温度：\")\n",
    "conv_temp(v)\n"
   ]
  },
  {
   "cell_type": "code",
   "execution_count": 24,
   "metadata": {},
   "outputs": [
    {
     "name": "stdout",
     "output_type": "stream",
     "text": [
      "10100\n",
      "11111111\n"
     ]
    }
   ],
   "source": [
    "def dec2bin(n):\n",
    "    rs = []\n",
    "    while not n == 0:\n",
    "        # 把每次取余得到的结果加到集合里\n",
    "        rs.append(str(n % 2))\n",
    "        # 除2直到n除到0为止\n",
    "        n = n//2\n",
    "    return \"\".join(rs[::-1])\n",
    "\n",
    "print(dec2bin(20))\n",
    "print(dec2bin(255))\n",
    "\n"
   ]
  },
  {
   "cell_type": "code",
   "execution_count": 27,
   "metadata": {},
   "outputs": [
    {
     "name": "stdout",
     "output_type": "stream",
     "text": [
      "[9, 7, 5, 3, 1]\n"
     ]
    }
   ],
   "source": [
    "def bubble_sort(a):\n",
    "    for i in range(len(a)-1):\n",
    "        for j in range(i+1,len(a)):\n",
    "            if a[j]>a[i]:\n",
    "                a[i],a[j] = a[j], a[i]\n",
    "    return array\n",
    "            \n",
    "    \n",
    "array = [1, 9, 7, 3, 5]\n",
    "print(bubble_sort(array))\n"
   ]
  },
  {
   "cell_type": "code",
   "execution_count": 33,
   "metadata": {},
   "outputs": [
    {
     "name": "stdout",
     "output_type": "stream",
     "text": [
      "1\n",
      "120\n",
      "1\n",
      "120\n",
      "1\n",
      "120\n"
     ]
    }
   ],
   "source": [
    "# 返回n的阶层\n",
    "\n",
    "def fact(n):\n",
    "    if n == 1:\n",
    "        return 1\n",
    "    else:\n",
    "        return fact(n-1) * n\n",
    "\n",
    "def fact_2(n):\n",
    "    result = 1\n",
    "    while not n == 1:\n",
    "        result = result * n\n",
    "        n = n - 1\n",
    "    return result\n",
    "\n",
    "def fact_3(n):\n",
    "    result = 1\n",
    "    for i in range(1,n+1):\n",
    "        result = result * i\n",
    "    return result\n",
    "    \n",
    "print(fact(1))\n",
    "print(fact(5))\n",
    "\n",
    "print(fact_2(1))\n",
    "print(fact_2(5))\n",
    "\n",
    "print(fact_3(1))\n",
    "print(fact_3(5))"
   ]
  },
  {
   "cell_type": "code",
   "execution_count": 35,
   "metadata": {},
   "outputs": [
    {
     "name": "stdout",
     "output_type": "stream",
     "text": [
      "8\n",
      "13\n"
     ]
    }
   ],
   "source": [
    "def fib(n):\n",
    "    if n == 0:\n",
    "        return 0\n",
    "    elif n == 1:\n",
    "        return 1\n",
    "    else:\n",
    "        return fib(n-1)+fib(n-2)\n",
    "# 0 1 1 2 3 5 8 13 \n",
    "print(fib(6))\n",
    "print(fib(7))"
   ]
  },
  {
   "cell_type": "code",
   "execution_count": null,
   "metadata": {},
   "outputs": [],
   "source": []
  }
 ],
 "metadata": {
  "kernelspec": {
   "display_name": "Python 3",
   "language": "python",
   "name": "python3"
  },
  "language_info": {
   "codemirror_mode": {
    "name": "ipython",
    "version": 3
   },
   "file_extension": ".py",
   "mimetype": "text/x-python",
   "name": "python",
   "nbconvert_exporter": "python",
   "pygments_lexer": "ipython3",
   "version": "3.7.6"
  }
 },
 "nbformat": 4,
 "nbformat_minor": 4
}
