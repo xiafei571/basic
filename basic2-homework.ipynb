{
 "cells": [
  {
   "cell_type": "markdown",
   "metadata": {},
   "source": [
    "## HomeWork 1\n",
    "Do a simple “benchmark” test to measure the performance of programming languages."
   ]
  },
  {
   "cell_type": "code",
   "execution_count": 9,
   "metadata": {},
   "outputs": [
    {
     "name": "stdout",
     "output_type": "stream",
     "text": [
      "AVG of 10 times in Python (jupyter notebook): 6.92 secs\n"
     ]
    }
   ],
   "source": [
    "import time\n",
    "import numpy as np\n",
    "\n",
    "\n",
    "def tarai(x, y, z):\n",
    "    if x<=y:\n",
    "        return y\n",
    "    else:\n",
    "        return tarai(tarai(x-1,y,z), tarai(y-1,z,x), tarai(z-1,x,y))\n",
    "    \n",
    "\n",
    "    \n",
    "def main():\n",
    "    result = []\n",
    "    for i in range(10):\n",
    "        start = time.process_time()\n",
    "        tarai(13,5,0)\n",
    "        end = time.process_time()\n",
    "        result.append(end-start)\n",
    "        \n",
    "    print('AVG of 10 times in Python (jupyter notebook): %.2f secs'% np.mean(result))\n",
    "\n",
    "if __name__ == '__main__':\n",
    "    main()"
   ]
  },
  {
   "cell_type": "markdown",
   "metadata": {},
   "source": [
    "## HomeWork 2\n",
    "Write a program of “The Tower of Hanoi” in 2 different programming languages, and execute it. Report the source code and the execution result."
   ]
  },
  {
   "cell_type": "code",
   "execution_count": 25,
   "metadata": {},
   "outputs": [
    {
     "name": "stdout",
     "output_type": "stream",
     "text": [
      "move 2: A --> B\n",
      "move 3: A --> C\n",
      "move 2: B --> C\n",
      "3 layers hanoi in Python (jupyter notebook): 0.000238 secs\n"
     ]
    }
   ],
   "source": [
    "\n",
    "def hanoi(n, a, b, c):\n",
    "    if n > 1:\n",
    "        hanoi(n-1, a, c, b)\n",
    "        print('move %s: %s --> %s'%(n, a, c))\n",
    "        hanoi(n-1, b, a, c)\n",
    "        \n",
    "def main():\n",
    "    start = time.process_time()\n",
    "    hanoi(3, 'A', 'B', 'C')\n",
    "    end = time.process_time()\n",
    "    print('3 layers hanoi in Python (jupyter notebook): %.6f secs'%(end-start))\n",
    "\n",
    "if __name__ == '__main__':\n",
    "    main()"
   ]
  },
  {
   "cell_type": "markdown",
   "metadata": {},
   "source": [
    "## HomeWork 3\n",
    "Design a “Tree” class. 木構造を定義せよ\n",
    "初期化、add(要素、あるいは他のtreeを追加)\n",
    "print (treeの内容を表示)remove(i) i番目を削除"
   ]
  },
  {
   "cell_type": "code",
   "execution_count": 96,
   "metadata": {},
   "outputs": [
    {
     "name": "stdout",
     "output_type": "stream",
     "text": [
      "(25,30,(5))\n"
     ]
    }
   ],
   "source": [
    "class Tree():\n",
    "    def __init__(self):\n",
    "        self.childs = []\n",
    "        \n",
    "    def add(self, node):\n",
    "        self.childs.append(node)\n",
    "    \n",
    "    def remove(self, i):\n",
    "        del self.childs[i]\n",
    "    \n",
    "    def order(self, node):\n",
    "        if type(node) == type(1):\n",
    "            return str(node)\n",
    "        else:\n",
    "            s = []\n",
    "            for i in node.childs:\n",
    "                s.append(self.order(i))\n",
    "            result = ','.join(s)\n",
    "            return '(%s)'%result\n",
    "\n",
    "    def tree_print(self):\n",
    "        print(self.order(self))\n",
    "        \n",
    "tree1 = Tree()\n",
    "tree1.add(25)\n",
    "tree1.add(30)\n",
    "\n",
    "tree2 = Tree()\n",
    "tree2.add(5)\n",
    "\n",
    "tree1.add(tree2)\n",
    "\n",
    "# tree1.remove(2)\n",
    "\n",
    "tree1.tree_print();\n",
    "\n"
   ]
  },
  {
   "cell_type": "code",
   "execution_count": null,
   "metadata": {},
   "outputs": [],
   "source": []
  }
 ],
 "metadata": {
  "kernelspec": {
   "display_name": "Python 3",
   "language": "python",
   "name": "python3"
  },
  "language_info": {
   "codemirror_mode": {
    "name": "ipython",
    "version": 3
   },
   "file_extension": ".py",
   "mimetype": "text/x-python",
   "name": "python",
   "nbconvert_exporter": "python",
   "pygments_lexer": "ipython3",
   "version": "3.7.6"
  }
 },
 "nbformat": 4,
 "nbformat_minor": 4
}
